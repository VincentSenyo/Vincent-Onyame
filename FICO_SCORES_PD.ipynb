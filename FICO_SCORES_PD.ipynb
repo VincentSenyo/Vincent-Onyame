{
 "cells": [
  {
   "cell_type": "code",
   "execution_count": 12,
   "id": "7c7b3b94-1a1b-4f10-b6e8-f0fc70d7ab6f",
   "metadata": {},
   "outputs": [],
   "source": [
    "import pandas as pd\n",
    "import matplotlib.pyplot as plt\n",
    "import numpy as np\n",
    "from sklearn.model_selection import train_test_split\n",
    "from sklearn.ensemble import RandomForestClassifier\n",
    "from sklearn.metrics import classification_report,roc_auc_score "
   ]
  },
  {
   "cell_type": "code",
   "execution_count": 13,
   "id": "03ac1a89-eed5-481c-b347-286174db1166",
   "metadata": {},
   "outputs": [],
   "source": [
    "file= r'c:\\users\\senvo\\downloads\\Task 3 and 4_Loan_Data.csv' "
   ]
  },
  {
   "cell_type": "code",
   "execution_count": 14,
   "id": "b20eecd7-1566-4d84-9ee3-114c492a4e1a",
   "metadata": {},
   "outputs": [],
   "source": [
    "loan =pd.read_csv(file)"
   ]
  },
  {
   "cell_type": "code",
   "execution_count": 15,
   "id": "88ca19c1-a77e-4c49-9876-1e79c91fb2df",
   "metadata": {},
   "outputs": [
    {
     "data": {
      "text/html": [
       "<div>\n",
       "<style scoped>\n",
       "    .dataframe tbody tr th:only-of-type {\n",
       "        vertical-align: middle;\n",
       "    }\n",
       "\n",
       "    .dataframe tbody tr th {\n",
       "        vertical-align: top;\n",
       "    }\n",
       "\n",
       "    .dataframe thead th {\n",
       "        text-align: right;\n",
       "    }\n",
       "</style>\n",
       "<table border=\"1\" class=\"dataframe\">\n",
       "  <thead>\n",
       "    <tr style=\"text-align: right;\">\n",
       "      <th></th>\n",
       "      <th>customer_id</th>\n",
       "      <th>credit_lines_outstanding</th>\n",
       "      <th>loan_amt_outstanding</th>\n",
       "      <th>total_debt_outstanding</th>\n",
       "      <th>income</th>\n",
       "      <th>years_employed</th>\n",
       "      <th>fico_score</th>\n",
       "      <th>default</th>\n",
       "    </tr>\n",
       "  </thead>\n",
       "  <tbody>\n",
       "    <tr>\n",
       "      <th>0</th>\n",
       "      <td>8153374</td>\n",
       "      <td>0</td>\n",
       "      <td>5221.545193</td>\n",
       "      <td>3915.471226</td>\n",
       "      <td>78039.38546</td>\n",
       "      <td>5</td>\n",
       "      <td>605</td>\n",
       "      <td>0</td>\n",
       "    </tr>\n",
       "    <tr>\n",
       "      <th>1</th>\n",
       "      <td>7442532</td>\n",
       "      <td>5</td>\n",
       "      <td>1958.928726</td>\n",
       "      <td>8228.752520</td>\n",
       "      <td>26648.43525</td>\n",
       "      <td>2</td>\n",
       "      <td>572</td>\n",
       "      <td>1</td>\n",
       "    </tr>\n",
       "    <tr>\n",
       "      <th>2</th>\n",
       "      <td>2256073</td>\n",
       "      <td>0</td>\n",
       "      <td>3363.009259</td>\n",
       "      <td>2027.830850</td>\n",
       "      <td>65866.71246</td>\n",
       "      <td>4</td>\n",
       "      <td>602</td>\n",
       "      <td>0</td>\n",
       "    </tr>\n",
       "    <tr>\n",
       "      <th>3</th>\n",
       "      <td>4885975</td>\n",
       "      <td>0</td>\n",
       "      <td>4766.648001</td>\n",
       "      <td>2501.730397</td>\n",
       "      <td>74356.88347</td>\n",
       "      <td>5</td>\n",
       "      <td>612</td>\n",
       "      <td>0</td>\n",
       "    </tr>\n",
       "    <tr>\n",
       "      <th>4</th>\n",
       "      <td>4700614</td>\n",
       "      <td>1</td>\n",
       "      <td>1345.827718</td>\n",
       "      <td>1768.826187</td>\n",
       "      <td>23448.32631</td>\n",
       "      <td>6</td>\n",
       "      <td>631</td>\n",
       "      <td>0</td>\n",
       "    </tr>\n",
       "  </tbody>\n",
       "</table>\n",
       "</div>"
      ],
      "text/plain": [
       "   customer_id  credit_lines_outstanding  loan_amt_outstanding  \\\n",
       "0      8153374                         0           5221.545193   \n",
       "1      7442532                         5           1958.928726   \n",
       "2      2256073                         0           3363.009259   \n",
       "3      4885975                         0           4766.648001   \n",
       "4      4700614                         1           1345.827718   \n",
       "\n",
       "   total_debt_outstanding       income  years_employed  fico_score  default  \n",
       "0             3915.471226  78039.38546               5         605        0  \n",
       "1             8228.752520  26648.43525               2         572        1  \n",
       "2             2027.830850  65866.71246               4         602        0  \n",
       "3             2501.730397  74356.88347               5         612        0  \n",
       "4             1768.826187  23448.32631               6         631        0  "
      ]
     },
     "execution_count": 15,
     "metadata": {},
     "output_type": "execute_result"
    }
   ],
   "source": [
    "loan.head()"
   ]
  },
  {
   "cell_type": "code",
   "execution_count": 16,
   "id": "715c9f39-e5b5-4f2b-8484-ac6df4b96070",
   "metadata": {},
   "outputs": [
    {
     "data": {
      "image/png": "[encoded data removed]",
      "text/plain": [
       "<Figure size 640x480 with 1 Axes>"
      ]
     },
     "metadata": {},
     "output_type": "display_data"
    }
   ],
   "source": [
    "## checking the fico_scores distribution\n",
    "plt.hist(loan['fico_score'], bins=20, edgecolor='k', alpha=0.7)\n",
    "plt.title('FICO Score Distribution')\n",
    "plt.xlabel('FICO Score')\n",
    "plt.ylabel('Frequency')\n",
    "plt.show()"
   ]
  },
  {
   "cell_type": "code",
   "execution_count": 18,
   "id": "522e6966-d590-4c49-9ed4-dcc864f7ae62",
   "metadata": {},
   "outputs": [],
   "source": [
    "## The idea here is to implement a method to bucket the FICO scores such that the MSE within each bucket is minimized."
   ]
  },
  {
   "cell_type": "code",
   "execution_count": 19,
   "id": "c6b5293c-0559-47ea-bb0f-a8cba8bf2054",
   "metadata": {},
   "outputs": [
    {
     "name": "stdout",
     "output_type": "stream",
     "text": [
      "Bucket boundaries (MSE): [np.int64(587), np.int64(623), np.int64(653), np.int64(688)]\n"
     ]
    }
   ],
   "source": [
    "def mse_bucketing(scores, n_buckets):\n",
    "    scores = np.sort(scores)\n",
    "    buckets = np.array_split(scores, n_buckets)\n",
    "    boundaries = [bucket[-1] for bucket in buckets[:-1]]\n",
    "    return boundaries\n",
    "\n",
    "# Apply the bucketing method\n",
    "n_buckets = 5\n",
    "buckets_mse = mse_bucketing(loan['fico_score'].values, n_buckets)\n",
    "print(\"Bucket boundaries (MSE):\", buckets_mse)\n"
   ]
  },
  {
   "cell_type": "code",
   "execution_count": 20,
   "id": "70d0b156-de0b-4701-baec-0c8d422ba5d4",
   "metadata": {},
   "outputs": [],
   "source": [
    "## Here we also use this method to bucket the FICO scores to maximize the log-likelihood function."
   ]
  },
  {
   "cell_type": "code",
   "execution_count": 22,
   "id": "2066cc1c-7c91-475c-85d9-184edd886484",
   "metadata": {},
   "outputs": [],
   "source": [
    "from scipy.optimize import minimize"
   ]
  },
  {
   "cell_type": "code",
   "execution_count": 23,
   "id": "24cae7be-abb4-40ae-b0d3-d9b5f601eea4",
   "metadata": {},
   "outputs": [
    {
     "data": {
      "text/plain": [
       "array([496.4, 584.8, 673.2, 761.6])"
      ]
     },
     "execution_count": 23,
     "metadata": {},
     "output_type": "execute_result"
    }
   ],
   "source": [
    "def log_likelihood_bucketing(loan, n_buckets):\n",
    "    scores = loan['fico_score'].values\n",
    "    defaults = loan['default'].values\n",
    "    total_records = len(scores)\n",
    "    \n",
    "    def log_likelihood(boundaries):\n",
    "        boundaries = np.sort(boundaries)\n",
    "        n_records = np.zeros(n_buckets)\n",
    "        n_defaults = np.zeros(n_buckets)\n",
    "        \n",
    "        boundaries = [min(scores) - 1] + list(boundaries) + [max(scores) + 1]\n",
    "        \n",
    "        for i in range(total_records):\n",
    "            for j in range(1, n_buckets + 1):\n",
    "                if boundaries[j-1] < scores[i] <= boundaries[j]:\n",
    "                    n_records[j-1] += 1\n",
    "                    if defaults[i] == 1:\n",
    "                        n_defaults[j-1] += 1\n",
    "                    break\n",
    "        \n",
    "        p = n_defaults / n_records\n",
    "        ll = np.sum(n_defaults * np.log(p + 1e-9) + (n_records - n_defaults) * np.log(1 - p + 1e-9))\n",
    "        return ll\n",
    "    \n",
    "    initial_boundaries = np.linspace(min(scores), max(scores), n_buckets+1)[1:-1]\n",
    "    result = minimize(lambda x: -log_likelihood(x), initial_boundaries, method='L-BFGS-B', bounds=[(min(scores), max(scores))] * (n_buckets - 1))\n",
    "    return result.x\n",
    "\n",
    "### Number of buckets\n",
    "n_buckets = 5\n",
    "\n",
    "### Apply the bucketing method\n",
    "buckets_log_likelihood = log_likelihood_bucketing(loan, n_buckets)\n",
    "buckets_log_likelihood\n"
   ]
  },
  {
   "cell_type": "code",
   "execution_count": null,
   "id": "00683960-0637-407e-a205-5795ba3cbce4",
   "metadata": {},
   "outputs": [],
   "source": [
    "## dynamic programming approach to optimize the bucket boundaries"
   ]
  },
  {
   "cell_type": "code",
   "execution_count": 24,
   "id": "6bc8924a-d69e-4c3d-81a9-af526c3a55fe",
   "metadata": {},
   "outputs": [
    {
     "name": "stdout",
     "output_type": "stream",
     "text": [
      "Bucket boundaries (Dynamic Programming): None\n"
     ]
    }
   ],
   "source": [
    "def dp_bucketing(scores, defaults, n_buckets):\n",
    "   \n",
    "    pass\n",
    "\n",
    "## Apply the bucketing method\n",
    "buckets_dp = dp_bucketing(loan['fico_score'].values, loan['default'].values, n_buckets)\n",
    "print(\"Bucket boundaries (Dynamic Programming):\", buckets_dp)\n"
   ]
  },
  {
   "cell_type": "code",
   "execution_count": 25,
   "id": "6214674e-03d8-41fb-9f9b-9eff8b63c62e",
   "metadata": {},
   "outputs": [
    {
     "data": {
      "text/plain": [
       "(0.821,\n",
       " np.float64(0.6886610843972807),\n",
       "    fico_score  fico_bucket  probability_of_default\n",
       " 0         510            1                0.391885\n",
       " 1         620            2                0.169682\n",
       " 2         700            3                0.060861\n",
       " 3         480            0                0.670201\n",
       " 4         760            3                0.060861)"
      ]
     },
     "execution_count": 25,
     "metadata": {},
     "output_type": "execute_result"
    }
   ],
   "source": [
    "\n",
    "from scipy.optimize import minimize\n",
    "from sklearn.model_selection import train_test_split\n",
    "from sklearn.linear_model import LogisticRegression\n",
    "from sklearn.metrics import accuracy_score, roc_auc_score\n",
    "\n",
    "# Define the bucketing function\n",
    "def log_likelihood_bucketing(loan, n_buckets):\n",
    "    scores = loan['fico_score'].values\n",
    "    defaults = loan['default'].values\n",
    "    total_records = len(scores)\n",
    "    \n",
    "    def log_likelihood(boundaries):\n",
    "        boundaries = np.sort(boundaries)\n",
    "        n_records = np.zeros(n_buckets)\n",
    "        n_defaults = np.zeros(n_buckets)\n",
    "        \n",
    "        boundaries = [min(scores) - 1] + list(boundaries) + [max(scores) + 1]\n",
    "        \n",
    "        for i in range(total_records):\n",
    "            for j in range(1, n_buckets + 1):\n",
    "                if boundaries[j-1] < scores[i] <= boundaries[j]:\n",
    "                    n_records[j-1] += 1\n",
    "                    if defaults[i] == 1:\n",
    "                        n_defaults[j-1] += 1\n",
    "                    break\n",
    "        \n",
    "        p = n_defaults / n_records\n",
    "        ll = np.sum(n_defaults * np.log(p + 1e-9) + (n_records - n_defaults) * np.log(1 - p + 1e-9))\n",
    "        return ll\n",
    "    \n",
    "    initial_boundaries = np.linspace(min(scores), max(scores), n_buckets+1)[1:-1]\n",
    "    result = minimize(lambda x: -log_likelihood(x), initial_boundaries, method='L-BFGS-B', bounds=[(min(scores), max(scores))] * (n_buckets - 1))\n",
    "    return result.x\n",
    "\n",
    "# Number of buckets\n",
    "n_buckets = 5\n",
    "\n",
    "# Apply the bucketing method\n",
    "buckets_log_likelihood = log_likelihood_bucketing(loan, n_buckets)\n",
    "\n",
    "# Define the function to categorize FICO scores into buckets\n",
    "def categorize_fico_score(fico_score, boundaries):\n",
    "    for i, boundary in enumerate(boundaries):\n",
    "        if fico_score <= boundary:\n",
    "            return i\n",
    "    return len(boundaries)\n",
    "\n",
    "# Categorize FICO scores for the existing data\n",
    "loan['fico_bucket'] = loan['fico_score'].apply(lambda x: categorize_fico_score(x, buckets_log_likelihood))\n",
    "\n",
    "# Features and target variable\n",
    "X = loan[['fico_bucket']]\n",
    "y = loan['default']\n",
    "\n",
    "# Split the data into training and testing sets using stratified sampling\n",
    "X_train, X_test, y_train, y_test = train_test_split(X, y, test_size=0.2, random_state=42, stratify=y)\n",
    "\n",
    "# Train the logistic regression model\n",
    "model = LogisticRegression()\n",
    "model.fit(X_train, y_train)\n",
    "\n",
    "# Predict the probability of default for the test set\n",
    "y_pred_proba = model.predict_proba(X_test)[:, 1]\n",
    "\n",
    "# Evaluate the model\n",
    "accuracy = accuracy_score(y_test, model.predict(X_test))\n",
    "roc_auc = roc_auc_score(y_test, y_pred_proba)\n",
    "\n",
    "# data for prediction\n",
    "new_data = pd.DataFrame({\n",
    "    'fico_score': [510, 620, 700, 480, 760]\n",
    "})\n",
    "\n",
    "# Categorize FICO scores for the new data\n",
    "new_data['fico_bucket'] = new_data['fico_score'].apply(lambda x: categorize_fico_score(x, buckets_log_likelihood))\n",
    "\n",
    "# Predict the probability of default for the new data\n",
    "new_data['probability_of_default'] = model.predict_proba(new_data[['fico_bucket']])[:, 1]\n",
    "\n",
    "accuracy, roc_auc, new_data\n"
   ]
  },
  {
   "cell_type": "code",
   "execution_count": 27,
   "id": "91b3bb0a-3631-4f3f-9a0b-e264812d147d",
   "metadata": {},
   "outputs": [],
   "source": [
    "##Model Interpretation\n",
    "#The goal of this model is to predict the probability of default (PD) for loan applicants based on their FICO scores\n",
    "#The model was achieved through the processes below:\n",
    "\n",
    "##step:1\n",
    "#Bucketing FICO Scores:\n",
    "\n",
    "# Log-Likelihood Bucketing: The FICO scores are divided into discrete buckets to capture the relationship between score ranges and \n",
    "# default probability. The log-likelihood method was used to find the optimal boundaries, which aim to maximize the distinction between default probabilities across buckets.\n",
    "# Optimal Boundaries: The optimal boundaries determined by this method were used to categorize the FICO scores into 5 buckets.\n",
    "\n",
    "##step:2\n",
    "## Training the Model:\n",
    "##Data Preparation: The FICO scores of the given dataset were categorized into the buckets based on the derived boundaries.\n",
    "## Model Selection: A logistic regression model was chosen to predict the probability of default.\n",
    "## Model Training: The model was trained on the categorized FICO scores and default labels, with the data split into training and test sets using stratified sampling to maintain the class distribution.\n",
    "\n",
    "##step3: Model Evaluation\n",
    "## Accuracy: The model achieved an accuracy of 82%, meaning it correctly predicted whether a customer would default or not in 82% of cases.\n",
    "## ROC AUC: The ROC AUC score was 0.69, indicating a fair ability to distinguish between defaulters and non-defaulters. A score of 0.69 suggests that the model has room for improvement but is better than random guessing (0.5).\n",
    "\n",
    "##step:4\n",
    "##Prediction on of Defaulters:\n",
    "\n",
    "## The model was used to predict the probability of default for new customers based on their FICO scores.\n",
    "## The predictions show varying probabilities of default across different FICO score ranges:\n",
    "## Lower FICO scores (e.g., 480) have a higher probability of default (67%).\n",
    "## Higher FICO scores (e.g., 700 and 760) have a much lower probability of default (around 6%).\n",
    "## Intermediate scores (e.g., 510 and 620) show moderate probabilities of default (39% and 17%)."
   ]
  }
 ],
 "metadata": {
  "kernelspec": {
   "display_name": "Python 3 (ipykernel)",
   "language": "python",
   "name": "python3"
  },
  "language_info": {
   "codemirror_mode": {
    "name": "ipython",
    "version": 3
   },
   "file_extension": ".py",
   "mimetype": "text/x-python",
   "name": "python",
   "nbconvert_exporter": "python",
   "pygments_lexer": "ipython3",
   "version": "3.11.8"
  }
 },
 "nbformat": 4,
 "nbformat_minor": 5
}
